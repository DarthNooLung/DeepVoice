{
 "cells": [
  {
   "cell_type": "code",
   "execution_count": 1,
   "metadata": {},
   "outputs": [],
   "source": [
    "from pydub import AudioSegment\n",
    "from pydub.silence import split_on_silence"
   ]
  },
  {
   "cell_type": "code",
   "execution_count": 2,
   "metadata": {},
   "outputs": [],
   "source": [
    "train_audio_path = '../98.DownLoad/04.DeepVoice/'\n",
    "filename = '01_Sample_001.wav'\n",
    "sound_file = AudioSegment.from_wav(train_audio_path + filename)"
   ]
  },
  {
   "cell_type": "code",
   "execution_count": 5,
   "metadata": {},
   "outputs": [],
   "source": [
    "\"\"\"\n",
    "파라미터\n",
    "min_silence_len : 사용할 침묵의 길이\n",
    "silence_thresh  : 이 값보다 조용한걸 침묵으로 인정합니다.(단위 : dBFS)\n",
    "\"\"\"\n",
    "audio_chunks = split_on_silence(sound_file, min_silence_len=1100, silence_thresh=-40)"
   ]
  },
  {
   "cell_type": "code",
   "execution_count": 6,
   "metadata": {},
   "outputs": [
    {
     "name": "stdout",
     "output_type": "stream",
     "text": [
      "../98.DownLoad/04.DeepVoice//test_0.wav\n",
      "../98.DownLoad/04.DeepVoice//test_1.wav\n",
      "../98.DownLoad/04.DeepVoice//test_2.wav\n",
      "../98.DownLoad/04.DeepVoice//test_3.wav\n",
      "../98.DownLoad/04.DeepVoice//test_4.wav\n",
      "../98.DownLoad/04.DeepVoice//test_5.wav\n",
      "../98.DownLoad/04.DeepVoice//test_6.wav\n",
      "../98.DownLoad/04.DeepVoice//test_7.wav\n",
      "../98.DownLoad/04.DeepVoice//test_8.wav\n",
      "../98.DownLoad/04.DeepVoice//test_9.wav\n",
      "../98.DownLoad/04.DeepVoice//test_10.wav\n",
      "../98.DownLoad/04.DeepVoice//test_11.wav\n",
      "../98.DownLoad/04.DeepVoice//test_12.wav\n",
      "../98.DownLoad/04.DeepVoice//test_13.wav\n",
      "../98.DownLoad/04.DeepVoice//test_14.wav\n",
      "../98.DownLoad/04.DeepVoice//test_15.wav\n",
      "../98.DownLoad/04.DeepVoice//test_16.wav\n",
      "../98.DownLoad/04.DeepVoice//test_17.wav\n",
      "../98.DownLoad/04.DeepVoice//test_18.wav\n",
      "../98.DownLoad/04.DeepVoice//test_19.wav\n",
      "../98.DownLoad/04.DeepVoice//test_20.wav\n",
      "../98.DownLoad/04.DeepVoice//test_21.wav\n",
      "../98.DownLoad/04.DeepVoice//test_22.wav\n",
      "../98.DownLoad/04.DeepVoice//test_23.wav\n",
      "../98.DownLoad/04.DeepVoice//test_24.wav\n",
      "../98.DownLoad/04.DeepVoice//test_25.wav\n",
      "../98.DownLoad/04.DeepVoice//test_26.wav\n",
      "../98.DownLoad/04.DeepVoice//test_27.wav\n",
      "../98.DownLoad/04.DeepVoice//test_28.wav\n",
      "../98.DownLoad/04.DeepVoice//test_29.wav\n",
      "../98.DownLoad/04.DeepVoice//test_30.wav\n",
      "../98.DownLoad/04.DeepVoice//test_31.wav\n",
      "../98.DownLoad/04.DeepVoice//test_32.wav\n",
      "../98.DownLoad/04.DeepVoice//test_33.wav\n",
      "../98.DownLoad/04.DeepVoice//test_34.wav\n",
      "../98.DownLoad/04.DeepVoice//test_35.wav\n",
      "../98.DownLoad/04.DeepVoice//test_36.wav\n",
      "../98.DownLoad/04.DeepVoice//test_37.wav\n",
      "../98.DownLoad/04.DeepVoice//test_38.wav\n",
      "../98.DownLoad/04.DeepVoice//test_39.wav\n",
      "../98.DownLoad/04.DeepVoice//test_40.wav\n",
      "../98.DownLoad/04.DeepVoice//test_41.wav\n",
      "../98.DownLoad/04.DeepVoice//test_42.wav\n",
      "../98.DownLoad/04.DeepVoice//test_43.wav\n",
      "../98.DownLoad/04.DeepVoice//test_44.wav\n",
      "../98.DownLoad/04.DeepVoice//test_45.wav\n",
      "../98.DownLoad/04.DeepVoice//test_46.wav\n",
      "../98.DownLoad/04.DeepVoice//test_47.wav\n",
      "../98.DownLoad/04.DeepVoice//test_48.wav\n",
      "../98.DownLoad/04.DeepVoice//test_49.wav\n",
      "../98.DownLoad/04.DeepVoice//test_50.wav\n",
      "../98.DownLoad/04.DeepVoice//test_51.wav\n",
      "../98.DownLoad/04.DeepVoice//test_52.wav\n",
      "../98.DownLoad/04.DeepVoice//test_53.wav\n",
      "../98.DownLoad/04.DeepVoice//test_54.wav\n",
      "../98.DownLoad/04.DeepVoice//test_55.wav\n",
      "../98.DownLoad/04.DeepVoice//test_56.wav\n",
      "../98.DownLoad/04.DeepVoice//test_57.wav\n",
      "../98.DownLoad/04.DeepVoice//test_58.wav\n",
      "../98.DownLoad/04.DeepVoice//test_59.wav\n",
      "../98.DownLoad/04.DeepVoice//test_60.wav\n",
      "../98.DownLoad/04.DeepVoice//test_61.wav\n",
      "../98.DownLoad/04.DeepVoice//test_62.wav\n",
      "../98.DownLoad/04.DeepVoice//test_63.wav\n",
      "../98.DownLoad/04.DeepVoice//test_64.wav\n",
      "../98.DownLoad/04.DeepVoice//test_65.wav\n",
      "../98.DownLoad/04.DeepVoice//test_66.wav\n",
      "../98.DownLoad/04.DeepVoice//test_67.wav\n",
      "../98.DownLoad/04.DeepVoice//test_68.wav\n",
      "../98.DownLoad/04.DeepVoice//test_69.wav\n",
      "../98.DownLoad/04.DeepVoice//test_70.wav\n",
      "../98.DownLoad/04.DeepVoice//test_71.wav\n",
      "../98.DownLoad/04.DeepVoice//test_72.wav\n"
     ]
    }
   ],
   "source": [
    "for i, chunk in enumerate(audio_chunks):\n",
    "    out_file = train_audio_path + \"/test_{0}.wav\".format(i)\n",
    "    print(out_file)\n",
    "    #print \"exporting\", out_file\n",
    "    chunk.export(out_file, format=\"wav\")"
   ]
  },
  {
   "cell_type": "code",
   "execution_count": null,
   "metadata": {},
   "outputs": [],
   "source": []
  },
  {
   "cell_type": "code",
   "execution_count": null,
   "metadata": {},
   "outputs": [],
   "source": []
  },
  {
   "cell_type": "code",
   "execution_count": 4,
   "metadata": {},
   "outputs": [
    {
     "name": "stdout",
     "output_type": "stream",
     "text": [
      "Sample Rate : 44100\n",
      "nperseg : 882\n",
      "noverlap : 441\n"
     ]
    },
    {
     "name": "stderr",
     "output_type": "stream",
     "text": [
      "C:\\Python\\Anaconda3\\envs\\Nuricle\\lib\\site-packages\\scipy\\signal\\spectral.py:1966: UserWarning: nperseg = 882 is greater than input length  = 2, using nperseg = 2\n",
      "  .format(nperseg, input_length))\n"
     ]
    },
    {
     "ename": "ValueError",
     "evalue": "noverlap must be less than nperseg.",
     "output_type": "error",
     "traceback": [
      "\u001b[1;31m---------------------------------------------------------------------------\u001b[0m",
      "\u001b[1;31mValueError\u001b[0m                                Traceback (most recent call last)",
      "\u001b[1;32m<ipython-input-4-42177c8d2726>\u001b[0m in \u001b[0;36m<module>\u001b[1;34m\u001b[0m\n\u001b[0;32m      4\u001b[0m \u001b[1;31m#log_specgram(samples, sample_rate)\u001b[0m\u001b[1;33m\u001b[0m\u001b[1;33m\u001b[0m\u001b[1;33m\u001b[0m\u001b[0m\n\u001b[0;32m      5\u001b[0m \u001b[1;33m\u001b[0m\u001b[0m\n\u001b[1;32m----> 6\u001b[1;33m \u001b[0mfreqs\u001b[0m\u001b[1;33m,\u001b[0m \u001b[0mtimes\u001b[0m\u001b[1;33m,\u001b[0m \u001b[0mspectrogram\u001b[0m \u001b[1;33m=\u001b[0m \u001b[0mlog_specgram\u001b[0m\u001b[1;33m(\u001b[0m\u001b[0msamples\u001b[0m\u001b[1;33m,\u001b[0m \u001b[0msample_rate\u001b[0m\u001b[1;33m)\u001b[0m\u001b[1;33m\u001b[0m\u001b[1;33m\u001b[0m\u001b[0m\n\u001b[0m\u001b[0;32m      7\u001b[0m \u001b[1;33m\u001b[0m\u001b[0m\n\u001b[0;32m      8\u001b[0m \u001b[1;31m#fig = plt.figure(figsize=(14, 8))\u001b[0m\u001b[1;33m\u001b[0m\u001b[1;33m\u001b[0m\u001b[1;33m\u001b[0m\u001b[0m\n",
      "\u001b[1;32m<ipython-input-3-01ec1b4d5d20>\u001b[0m in \u001b[0;36mlog_specgram\u001b[1;34m(audio, sample_rate, window_size, step_size, eps)\u001b[0m\n\u001b[0;32m     12\u001b[0m     \u001b[0mprint\u001b[0m\u001b[1;33m(\u001b[0m\u001b[1;34m\"noverlap :\"\u001b[0m\u001b[1;33m,\u001b[0m \u001b[0mnoverlap\u001b[0m\u001b[1;33m)\u001b[0m\u001b[1;33m\u001b[0m\u001b[1;33m\u001b[0m\u001b[0m\n\u001b[0;32m     13\u001b[0m     \u001b[1;31m#freqs, times, spec = signal.spectrogram(audio, fs = sample_rate, window='hann', nperseg=nperseg, detrend=False)\u001b[0m\u001b[1;33m\u001b[0m\u001b[1;33m\u001b[0m\u001b[1;33m\u001b[0m\u001b[0m\n\u001b[1;32m---> 14\u001b[1;33m     \u001b[0mfreqs\u001b[0m\u001b[1;33m,\u001b[0m \u001b[0mtimes\u001b[0m\u001b[1;33m,\u001b[0m \u001b[0mspec\u001b[0m \u001b[1;33m=\u001b[0m \u001b[0msignal\u001b[0m\u001b[1;33m.\u001b[0m\u001b[0mspectrogram\u001b[0m\u001b[1;33m(\u001b[0m\u001b[0maudio\u001b[0m\u001b[1;33m,\u001b[0m \u001b[0mfs\u001b[0m \u001b[1;33m=\u001b[0m \u001b[0msample_rate\u001b[0m\u001b[1;33m,\u001b[0m \u001b[0mwindow\u001b[0m\u001b[1;33m=\u001b[0m\u001b[1;34m'hann'\u001b[0m\u001b[1;33m,\u001b[0m \u001b[0mnperseg\u001b[0m\u001b[1;33m=\u001b[0m\u001b[0mnperseg\u001b[0m\u001b[1;33m,\u001b[0m \u001b[0mnoverlap\u001b[0m\u001b[1;33m=\u001b[0m\u001b[0mnoverlap\u001b[0m\u001b[1;33m,\u001b[0m \u001b[0mdetrend\u001b[0m\u001b[1;33m=\u001b[0m\u001b[1;32mFalse\u001b[0m\u001b[1;33m)\u001b[0m\u001b[1;33m\u001b[0m\u001b[1;33m\u001b[0m\u001b[0m\n\u001b[0m\u001b[0;32m     15\u001b[0m     \u001b[0mprint\u001b[0m\u001b[1;33m(\u001b[0m\u001b[1;34m\"완료\"\u001b[0m\u001b[1;33m)\u001b[0m\u001b[1;33m\u001b[0m\u001b[1;33m\u001b[0m\u001b[0m\n\u001b[0;32m     16\u001b[0m     \u001b[1;32mreturn\u001b[0m \u001b[0mfreqs\u001b[0m\u001b[1;33m,\u001b[0m \u001b[0mtimes\u001b[0m\u001b[1;33m,\u001b[0m \u001b[0mnp\u001b[0m\u001b[1;33m.\u001b[0m\u001b[0mlog\u001b[0m\u001b[1;33m(\u001b[0m\u001b[0mspec\u001b[0m\u001b[1;33m.\u001b[0m\u001b[0mT\u001b[0m\u001b[1;33m.\u001b[0m\u001b[0mastype\u001b[0m\u001b[1;33m(\u001b[0m\u001b[0mnp\u001b[0m\u001b[1;33m.\u001b[0m\u001b[0mfloat32\u001b[0m\u001b[1;33m)\u001b[0m \u001b[1;33m+\u001b[0m \u001b[0meps\u001b[0m\u001b[1;33m)\u001b[0m\u001b[1;33m\u001b[0m\u001b[1;33m\u001b[0m\u001b[0m\n",
      "\u001b[1;32mC:\\Python\\Anaconda3\\envs\\Nuricle\\lib\\site-packages\\scipy\\signal\\spectral.py\u001b[0m in \u001b[0;36mspectrogram\u001b[1;34m(x, fs, window, nperseg, noverlap, nfft, detrend, return_onesided, scaling, axis, mode)\u001b[0m\n\u001b[0;32m    749\u001b[0m                                             \u001b[0mnoverlap\u001b[0m\u001b[1;33m,\u001b[0m \u001b[0mnfft\u001b[0m\u001b[1;33m,\u001b[0m \u001b[0mdetrend\u001b[0m\u001b[1;33m,\u001b[0m\u001b[1;33m\u001b[0m\u001b[1;33m\u001b[0m\u001b[0m\n\u001b[0;32m    750\u001b[0m                                             \u001b[0mreturn_onesided\u001b[0m\u001b[1;33m,\u001b[0m \u001b[0mscaling\u001b[0m\u001b[1;33m,\u001b[0m \u001b[0maxis\u001b[0m\u001b[1;33m,\u001b[0m\u001b[1;33m\u001b[0m\u001b[1;33m\u001b[0m\u001b[0m\n\u001b[1;32m--> 751\u001b[1;33m                                             mode='psd')\n\u001b[0m\u001b[0;32m    752\u001b[0m \u001b[1;33m\u001b[0m\u001b[0m\n\u001b[0;32m    753\u001b[0m     \u001b[1;32melse\u001b[0m\u001b[1;33m:\u001b[0m\u001b[1;33m\u001b[0m\u001b[1;33m\u001b[0m\u001b[0m\n",
      "\u001b[1;32mC:\\Python\\Anaconda3\\envs\\Nuricle\\lib\\site-packages\\scipy\\signal\\spectral.py\u001b[0m in \u001b[0;36m_spectral_helper\u001b[1;34m(x, y, fs, window, nperseg, noverlap, nfft, detrend, return_onesided, scaling, axis, mode, boundary, padded)\u001b[0m\n\u001b[0;32m   1755\u001b[0m         \u001b[0mnoverlap\u001b[0m \u001b[1;33m=\u001b[0m \u001b[0mint\u001b[0m\u001b[1;33m(\u001b[0m\u001b[0mnoverlap\u001b[0m\u001b[1;33m)\u001b[0m\u001b[1;33m\u001b[0m\u001b[1;33m\u001b[0m\u001b[0m\n\u001b[0;32m   1756\u001b[0m     \u001b[1;32mif\u001b[0m \u001b[0mnoverlap\u001b[0m \u001b[1;33m>=\u001b[0m \u001b[0mnperseg\u001b[0m\u001b[1;33m:\u001b[0m\u001b[1;33m\u001b[0m\u001b[1;33m\u001b[0m\u001b[0m\n\u001b[1;32m-> 1757\u001b[1;33m         \u001b[1;32mraise\u001b[0m \u001b[0mValueError\u001b[0m\u001b[1;33m(\u001b[0m\u001b[1;34m'noverlap must be less than nperseg.'\u001b[0m\u001b[1;33m)\u001b[0m\u001b[1;33m\u001b[0m\u001b[1;33m\u001b[0m\u001b[0m\n\u001b[0m\u001b[0;32m   1758\u001b[0m     \u001b[0mnstep\u001b[0m \u001b[1;33m=\u001b[0m \u001b[0mnperseg\u001b[0m \u001b[1;33m-\u001b[0m \u001b[0mnoverlap\u001b[0m\u001b[1;33m\u001b[0m\u001b[1;33m\u001b[0m\u001b[0m\n\u001b[0;32m   1759\u001b[0m \u001b[1;33m\u001b[0m\u001b[0m\n",
      "\u001b[1;31mValueError\u001b[0m: noverlap must be less than nperseg."
     ]
    }
   ],
   "source": [
    "#스펙트럼을 보여주는 부분\n",
    "import matplotlib.pyplot as plt\n",
    "\n",
    "#log_specgram(samples, sample_rate)\n",
    "\n",
    "freqs, times, spectrogram = log_specgram(samples, sample_rate)\n",
    "\n",
    "#fig = plt.figure(figsize=(14, 8))\n",
    "#ax1 = fig.add_subplot(211)\n",
    "#ax1.set_title('Raw wave of ' + filename)\n",
    "#ax1.set_ylabel('Amplitude')\n",
    "#ax1.plot(np.linspace(0, sample_rate/len(samples), sample_rate), samples)\n",
    "\n",
    "#ax2 = fig.add_subplot(212)\n",
    "#ax2.imshow(spectrogram.T, aspect='auto', origin='lower', extent=[times.min(), times.max(), freqs.min(), freqs.max()])\n",
    "#ax2.set_yticks(freqs[::16])\n",
    "#ax2.set_xticks(times[::16])\n",
    "#ax2.set_title('Spectrogram of ' + filename)\n",
    "#ax2.set_ylabel('Freqs in Hz')\n",
    "#ax2.set_xlabel('Seconds')"
   ]
  },
  {
   "cell_type": "code",
   "execution_count": 5,
   "metadata": {},
   "outputs": [
    {
     "ename": "ModuleNotFoundError",
     "evalue": "No module named 'plotly'",
     "output_type": "error",
     "traceback": [
      "\u001b[1;31m---------------------------------------------------------------------------\u001b[0m",
      "\u001b[1;31mModuleNotFoundError\u001b[0m                       Traceback (most recent call last)",
      "\u001b[1;32m<ipython-input-5-6bc439b480c2>\u001b[0m in \u001b[0;36m<module>\u001b[1;34m\u001b[0m\n\u001b[0;32m      1\u001b[0m \u001b[1;32mimport\u001b[0m \u001b[0mIPython\u001b[0m\u001b[1;33m.\u001b[0m\u001b[0mdisplay\u001b[0m \u001b[1;32mas\u001b[0m \u001b[0mipd\u001b[0m\u001b[1;33m\u001b[0m\u001b[1;33m\u001b[0m\u001b[0m\n\u001b[1;32m----> 2\u001b[1;33m \u001b[1;32mimport\u001b[0m \u001b[0mplotly\u001b[0m\u001b[1;33m.\u001b[0m\u001b[0mgraph_objs\u001b[0m \u001b[1;32mas\u001b[0m \u001b[0mgo\u001b[0m\u001b[1;33m\u001b[0m\u001b[1;33m\u001b[0m\u001b[0m\n\u001b[0m\u001b[0;32m      3\u001b[0m \u001b[1;33m\u001b[0m\u001b[0m\n\u001b[0;32m      4\u001b[0m \u001b[0mdata\u001b[0m \u001b[1;33m=\u001b[0m \u001b[1;33m[\u001b[0m\u001b[0mgo\u001b[0m\u001b[1;33m.\u001b[0m\u001b[0mSurface\u001b[0m\u001b[1;33m(\u001b[0m\u001b[0mx\u001b[0m\u001b[1;33m=\u001b[0m\u001b[0mtimes\u001b[0m\u001b[1;33m,\u001b[0m \u001b[0my\u001b[0m\u001b[1;33m=\u001b[0m\u001b[0mfreqs\u001b[0m\u001b[1;33m,\u001b[0m \u001b[0mz\u001b[0m\u001b[1;33m=\u001b[0m\u001b[0mspectrogram\u001b[0m\u001b[1;33m.\u001b[0m\u001b[0mT\u001b[0m\u001b[1;33m)\u001b[0m\u001b[1;33m]\u001b[0m\u001b[1;33m\u001b[0m\u001b[1;33m\u001b[0m\u001b[0m\n\u001b[0;32m      5\u001b[0m layout = go.Layout(\n",
      "\u001b[1;31mModuleNotFoundError\u001b[0m: No module named 'plotly'"
     ]
    }
   ],
   "source": [
    "import IPython.display as ipd\n",
    "import plotly.graph_objs as go\n",
    "\n",
    "data = [go.Surface(x=times, y=freqs, z=spectrogram.T)]\n",
    "layout = go.Layout(\n",
    "    autosize=False,\n",
    "    width=800, height=600,\n",
    "    title = 'Spectrogram of \"yes\" in 3D',\n",
    "    scene = dict(\n",
    "        yaxis = dict(title='Frequencies', range=[freqs.min(), freqs.max()]),\n",
    "        xaxis = dict(title='Time', range=[times.min(), times.max()]),\n",
    "        zaxis = dict(title='Log amplitude')\n",
    "    )\n",
    ")\n",
    "fig = go.Figure(data=data, layout=layout)\n",
    "py.iplot(fig)"
   ]
  },
  {
   "cell_type": "code",
   "execution_count": null,
   "metadata": {},
   "outputs": [],
   "source": []
  }
 ],
 "metadata": {
  "kernelspec": {
   "display_name": "Python 3",
   "language": "python",
   "name": "python3"
  },
  "language_info": {
   "codemirror_mode": {
    "name": "ipython",
    "version": 3
   },
   "file_extension": ".py",
   "mimetype": "text/x-python",
   "name": "python",
   "nbconvert_exporter": "python",
   "pygments_lexer": "ipython3",
   "version": "3.7.5"
  }
 },
 "nbformat": 4,
 "nbformat_minor": 2
}
