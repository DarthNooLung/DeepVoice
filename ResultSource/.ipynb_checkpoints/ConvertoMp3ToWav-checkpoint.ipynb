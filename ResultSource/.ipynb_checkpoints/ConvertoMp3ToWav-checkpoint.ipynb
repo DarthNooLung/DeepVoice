{
 "cells": [
  {
   "cell_type": "code",
   "execution_count": 14,
   "metadata": {},
   "outputs": [],
   "source": [
    "import import_ipynb\n",
    "import Configuration as Config\n",
    "from pydub import AudioSegment\n",
    "import glob\n",
    "import os.path"
   ]
  },
  {
   "cell_type": "code",
   "execution_count": 15,
   "metadata": {},
   "outputs": [],
   "source": [
    "gcSoundPath = Config.gSoundPath"
   ]
  },
  {
   "cell_type": "code",
   "execution_count": 16,
   "metadata": {},
   "outputs": [],
   "source": [
    "#mp3 파일 WAV로 변경하는 함수\n",
    "def ConvertMp3ToWav():\n",
    "    # 확장자 변경\n",
    "    wavFiles = glob.glob(gcSoundPath + \"/*.mp3\")\n",
    "    \n",
    "    for tmpFile in wavFiles:\n",
    "        fileName = os.path.splitext(tmpFile)\n",
    "        fileName = os.path.split(fileName[0])\n",
    "        sound = AudioSegment.from_file(tmpFile, format=\"mp4\")\n",
    "        sound.export(gcSoundPath + \"/\" + fileName[1] + \".wav\", format=\"wav\")\n",
    "        print(\"변환완료 : \" + fileName[1] + \".wav\")\n",
    "    \n",
    "    print(\"총 : \" + str(len(wavFiles)) + \"개 변환\")"
   ]
  },
  {
   "cell_type": "code",
   "execution_count": 17,
   "metadata": {},
   "outputs": [
    {
     "name": "stdout",
     "output_type": "stream",
     "text": [
      "변환완료 : 01_Sample_001.wav\n",
      "총 : 1개 변환\n"
     ]
    }
   ],
   "source": [
    "#mp3 파일 WAV로 변경\n",
    "ConvertMp3ToWav()"
   ]
  },
  {
   "cell_type": "code",
   "execution_count": null,
   "metadata": {},
   "outputs": [],
   "source": []
  }
 ],
 "metadata": {
  "kernelspec": {
   "display_name": "Python 3",
   "language": "python",
   "name": "python3"
  },
  "language_info": {
   "codemirror_mode": {
    "name": "ipython",
    "version": 3
   },
   "file_extension": ".py",
   "mimetype": "text/x-python",
   "name": "python",
   "nbconvert_exporter": "python",
   "pygments_lexer": "ipython3",
   "version": "3.7.3"
  }
 },
 "nbformat": 4,
 "nbformat_minor": 2
}
