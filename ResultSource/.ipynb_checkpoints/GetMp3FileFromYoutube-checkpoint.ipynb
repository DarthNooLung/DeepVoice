{
 "cells": [
  {
   "cell_type": "code",
   "execution_count": 5,
   "metadata": {},
   "outputs": [],
   "source": [
    "import import_ipynb\n",
    "import Configuration as Config\n",
    "from pytube import YouTube\n",
    "import pandas as pd\n",
    "import glob\n",
    "import os.path"
   ]
  },
  {
   "cell_type": "code",
   "execution_count": 6,
   "metadata": {},
   "outputs": [],
   "source": [
    "gcFileName = Config.gFileName\n",
    "gcSoundPath = Config.gSoundPath"
   ]
  },
  {
   "cell_type": "code",
   "execution_count": 7,
   "metadata": {},
   "outputs": [],
   "source": [
    "#유튜브 파일 다운로드 함수\n",
    "def GetYoutubeMp3():\n",
    "    ds = pd.read_csv('./Data/' + gcFileName + '_SoundList.txt', sep=',')    \n",
    "\n",
    "    iCnt = 1\n",
    "    for tmpUrl in ds['URL']:\n",
    "        yt = YouTube(tmpUrl)\n",
    "        \n",
    "        strFileName = str(iCnt)\n",
    "        \n",
    "        if iCnt < 10:\n",
    "            strFileName = \"00\" + str(iCnt)\n",
    "        elif iCnt < 100:\n",
    "            strFileName = \"0\" + str(iCnt)\n",
    "        \n",
    "        #음성 다운로드\n",
    "        yt.streams.filter(only_audio=True).first().download(output_path=gcSoundPath, filename=strFileName, filename_prefix=gcFileName + \"_\")\n",
    "        \n",
    "        # 확장자 변경\n",
    "        files = glob.glob(gcSoundPath + \"/*.mp4\")\n",
    "        for x in files:\n",
    "            if not os.path.isdir(x):\n",
    "                filename = os.path.splitext(x)\n",
    "                try:\n",
    "                    os.rename(x,filename[0] + '.mp3')\n",
    "                except:\n",
    "                    pass\n",
    "        \n",
    "        print(str(iCnt) + \"번째 파일 다운로드 완료\")\n",
    "        iCnt = iCnt + 1\n",
    "    print(\"전체 다운로드 완료\")"
   ]
  },
  {
   "cell_type": "code",
   "execution_count": 8,
   "metadata": {},
   "outputs": [
    {
     "name": "stdout",
     "output_type": "stream",
     "text": [
      "1번째 파일 다운로드 완료\n",
      "전체 다운로드 완료\n"
     ]
    }
   ],
   "source": [
    "#유튜브 파일 다운로드\n",
    "GetYoutubeMp3()"
   ]
  },
  {
   "cell_type": "code",
   "execution_count": null,
   "metadata": {},
   "outputs": [],
   "source": []
  }
 ],
 "metadata": {
  "kernelspec": {
   "display_name": "Python 3",
   "language": "python",
   "name": "python3"
  },
  "language_info": {
   "codemirror_mode": {
    "name": "ipython",
    "version": 3
   },
   "file_extension": ".py",
   "mimetype": "text/x-python",
   "name": "python",
   "nbconvert_exporter": "python",
   "pygments_lexer": "ipython3",
   "version": "3.7.3"
  }
 },
 "nbformat": 4,
 "nbformat_minor": 2
}
