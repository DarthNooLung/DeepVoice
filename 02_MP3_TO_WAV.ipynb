{
 "cells": [
  {
   "cell_type": "code",
   "execution_count": 1,
   "metadata": {},
   "outputs": [],
   "source": [
    "#ffmpeg 에러 날 때 처리\n",
    "#http://blog.gregzaal.com/how-to-install-ffmpeg-on-windows/"
   ]
  },
  {
   "cell_type": "code",
   "execution_count": 1,
   "metadata": {},
   "outputs": [],
   "source": [
    "from pydub import AudioSegment"
   ]
  },
  {
   "cell_type": "code",
   "execution_count": 2,
   "metadata": {},
   "outputs": [],
   "source": [
    "def Mp3ConvertWav(strFileName):\n",
    "    #sound = AudioSegment.from_mp3(\"../98.DownLoad/04.DeepVoice/Sample01.mp3\")\n",
    "    sound = AudioSegment.from_file(strFilePath + \"/\" + strFileName + \".mp3\", format=\"mp4\")\n",
    "    sound.export(strFilePath + \"/\" + strFileName + \".wav\", format=\"wav\")\n",
    "    print(\"Wav 파일로 변환 완료\")"
   ]
  },
  {
   "cell_type": "code",
   "execution_count": 3,
   "metadata": {},
   "outputs": [],
   "source": [
    "AudioSegment.converter = r\"C:\\ffmpeg\\bin\\ffmpeg.exe\"\n",
    "#AudioSegment.converter = \"C:\\\\ffmpeg\\\\bin\\\\ffmpeg.exe\""
   ]
  },
  {
   "cell_type": "code",
   "execution_count": 4,
   "metadata": {},
   "outputs": [],
   "source": [
    "strFilePath = \"../98.DownLoad/04.DeepVoice\""
   ]
  },
  {
   "cell_type": "code",
   "execution_count": 5,
   "metadata": {},
   "outputs": [
    {
     "name": "stdout",
     "output_type": "stream",
     "text": [
      "Wav 파일로 변환 완료\n"
     ]
    }
   ],
   "source": [
    "Mp3ConvertWav(\"Sample01\")"
   ]
  },
  {
   "cell_type": "code",
   "execution_count": null,
   "metadata": {},
   "outputs": [],
   "source": []
  }
 ],
 "metadata": {
  "kernelspec": {
   "display_name": "Python 3",
   "language": "python",
   "name": "python3"
  },
  "language_info": {
   "codemirror_mode": {
    "name": "ipython",
    "version": 3
   },
   "file_extension": ".py",
   "mimetype": "text/x-python",
   "name": "python",
   "nbconvert_exporter": "python",
   "pygments_lexer": "ipython3",
   "version": "3.7.5"
  }
 },
 "nbformat": 4,
 "nbformat_minor": 2
}
