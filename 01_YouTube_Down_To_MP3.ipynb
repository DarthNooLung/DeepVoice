{
 "cells": [
  {
   "cell_type": "code",
   "execution_count": 1,
   "metadata": {},
   "outputs": [],
   "source": [
    "from pytube import YouTube\n",
    "import glob\n",
    "import os.path"
   ]
  },
  {
   "cell_type": "code",
   "execution_count": 2,
   "metadata": {},
   "outputs": [],
   "source": [
    "# 영상 파일 다운로드 함수\n",
    "def GetFileDown(strUrl):\n",
    "    yt = YouTube(strUrl)\n",
    "    \n",
    "    #음성 다운로드\n",
    "    yt.streams.filter(only_audio=True).first().download(strDownPath)\n",
    "\n",
    "    # 확장자 변경\n",
    "    files = glob.glob(strDownPath + \"/*.mp4\")\n",
    "    for x in files:\n",
    "        if not os.path.isdir(x):\n",
    "            filename = os.path.splitext(x)\n",
    "            try:\n",
    "                os.rename(x,filename[0] + '.mp3')                \n",
    "            except:\n",
    "                pass\n",
    "    print('음성 다운로드 완료')\n",
    "    \n",
    "    #영상 다운로드\n",
    "    yt.streams.filter().first().download(strDownPath)\n",
    "    print('영상 다운로드 완료')"
   ]
  },
  {
   "cell_type": "code",
   "execution_count": 3,
   "metadata": {},
   "outputs": [
    {
     "name": "stdout",
     "output_type": "stream",
     "text": [
      "음성 다운로드 완료\n",
      "영상 다운로드 완료\n"
     ]
    }
   ],
   "source": [
    "#다운로드 경로\n",
    "strDownPath = \"../98.DownLoad/04.DeepVoice\"\n",
    "\n",
    "#유튜브 전용 인스턴스 생성\n",
    "strUrl = \"https://youtu.be/6t3ic_qElrw\"\n",
    "\n",
    "GetFileDown(strUrl)"
   ]
  },
  {
   "cell_type": "code",
   "execution_count": null,
   "metadata": {},
   "outputs": [],
   "source": []
  }
 ],
 "metadata": {
  "kernelspec": {
   "display_name": "Python 3",
   "language": "python",
   "name": "python3"
  },
  "language_info": {
   "codemirror_mode": {
    "name": "ipython",
    "version": 3
   },
   "file_extension": ".py",
   "mimetype": "text/x-python",
   "name": "python",
   "nbconvert_exporter": "python",
   "pygments_lexer": "ipython3",
   "version": "3.7.5"
  }
 },
 "nbformat": 4,
 "nbformat_minor": 2
}
