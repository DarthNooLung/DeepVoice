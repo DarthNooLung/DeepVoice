{
 "cells": [
  {
   "cell_type": "code",
   "execution_count": 1,
   "metadata": {},
   "outputs": [
    {
     "data": {
      "text/plain": [
       "'\\n함수 종류\\n    - GetYoutubeMp3 : 유튜브 영상 리스트를 MP3로 변환하여 다운로드\\n    - ChangeWav : 다운 받은 MP3 파일을 WAV 파일로 변환\\n    \\n공통으로 사용 할 전역변수\\n    - gFileName : 사용할 명칭\\n    - gSoundPath : 파일 다운 & 경로\\n'"
      ]
     },
     "execution_count": 1,
     "metadata": {},
     "output_type": "execute_result"
    }
   ],
   "source": [
    "\"\"\"\n",
    "함수 종류\n",
    "    - GetYoutubeMp3 : 유튜브 영상 리스트를 MP3로 변환하여 다운로드\n",
    "    - ChangeWav : 다운 받은 MP3 파일을 WAV 파일로 변환\n",
    "    \n",
    "공통으로 사용 할 전역변수\n",
    "    - gFileName : 사용할 명칭\n",
    "    - gSoundPath : 파일 다운 & 경로\n",
    "\"\"\""
   ]
  },
  {
   "cell_type": "code",
   "execution_count": 1,
   "metadata": {},
   "outputs": [],
   "source": [
    "from pytube import YouTube\n",
    "import glob\n",
    "import os.path\n",
    "import pandas as pd\n",
    "import speech_recognition as sr\n",
    "from pydub import AudioSegment"
   ]
  },
  {
   "cell_type": "code",
   "execution_count": 2,
   "metadata": {},
   "outputs": [],
   "source": [
    "gFileName = \"01_Sample\"\n",
    "gSoundPath = \"D:\\\\Develop\\\\05_Python\\\\98.DownLoad\\\\04.DeepVoice\\\\\" + gFileName"
   ]
  },
  {
   "cell_type": "code",
   "execution_count": 3,
   "metadata": {},
   "outputs": [],
   "source": [
    "#유튜브 파일 다운로드 함수\n",
    "def GetYoutubeMp3():\n",
    "    ds = pd.read_csv('./Data/' + gFileName + '_SoundList.txt', sep=',')    \n",
    "\n",
    "    iCnt = 1\n",
    "    for tmpUrl in ds['URL']:\n",
    "        yt = YouTube(tmpUrl)\n",
    "        \n",
    "        strFileName = str(iCnt)\n",
    "        \n",
    "        if iCnt < 10:\n",
    "            strFileName = \"00\" + str(iCnt)\n",
    "        elif iCnt < 100:\n",
    "            strFileName = \"0\" + str(iCnt)\n",
    "        \n",
    "        #음성 다운로드\n",
    "        yt.streams.filter(only_audio=True).first().download(output_path=gSoundPath, filename=strFileName, filename_prefix=gFileName + \"_\")\n",
    "        \n",
    "        # 확장자 변경\n",
    "        files = glob.glob(gSoundPath + \"/*.mp4\")\n",
    "        for x in files:\n",
    "            if not os.path.isdir(x):\n",
    "                filename = os.path.splitext(x)\n",
    "                try:\n",
    "                    os.rename(x,filename[0] + '.mp3')\n",
    "                except:\n",
    "                    pass\n",
    "        \n",
    "        print(str(iCnt) + \"번째 파일 다운로드 완료\")\n",
    "        iCnt = iCnt + 1\n",
    "    print(\"전체 다운로드 완료\")"
   ]
  },
  {
   "cell_type": "code",
   "execution_count": 5,
   "metadata": {},
   "outputs": [
    {
     "name": "stdout",
     "output_type": "stream",
     "text": [
      "1번째 파일 다운로드 완료\n",
      "전체 다운로드 완료\n"
     ]
    }
   ],
   "source": [
    "#유튜브 파일 다운로드\n",
    "GetYoutubeMp3()"
   ]
  },
  {
   "cell_type": "code",
   "execution_count": 33,
   "metadata": {},
   "outputs": [],
   "source": [
    "#mp3 파일 WAV로 변경하는 함수\n",
    "def ConvertMp3ToWav():\n",
    "    # 확장자 변경\n",
    "    wavFiles = glob.glob(gSoundPath + \"/*.mp3\")\n",
    "    \n",
    "    for tmpFile in wavFiles:\n",
    "        fileName = os.path.splitext(tmpFile)\n",
    "        fileName = os.path.split(fileName[0])\n",
    "        sound = AudioSegment.from_file(tmpFile, format=\"mp4\")\n",
    "        sound.export(gSoundPath + \"/\" + fileName[1] + \".wav\", format=\"wav\")\n",
    "        print(\"변환완료 : \" + fileName[1] + \".wav\")\n",
    "    \n",
    "    print(\"총 : \" + str(len(wavFiles)) + \"개 변환\""
   ]
  },
  {
   "cell_type": "code",
   "execution_count": 34,
   "metadata": {},
   "outputs": [
    {
     "name": "stdout",
     "output_type": "stream",
     "text": [
      "변환완료 : 01_Sample_001.wav\n"
     ]
    }
   ],
   "source": [
    "#mp3 파일 WAV로 변경\n",
    "ConvertMp3ToWav()"
   ]
  },
  {
   "cell_type": "code",
   "execution_count": null,
   "metadata": {},
   "outputs": [],
   "source": []
  }
 ],
 "metadata": {
  "kernelspec": {
   "display_name": "Python 3",
   "language": "python",
   "name": "python3"
  },
  "language_info": {
   "codemirror_mode": {
    "name": "ipython",
    "version": 3
   },
   "file_extension": ".py",
   "mimetype": "text/x-python",
   "name": "python",
   "nbconvert_exporter": "python",
   "pygments_lexer": "ipython3",
   "version": "3.7.3"
  }
 },
 "nbformat": 4,
 "nbformat_minor": 2
}
