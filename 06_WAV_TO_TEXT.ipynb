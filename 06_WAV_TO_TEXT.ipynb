{
 "cells": [
  {
   "cell_type": "code",
   "execution_count": 1,
   "metadata": {},
   "outputs": [],
   "source": [
    "import glob\n",
    "import os.path\n",
    "import speech_recognition as sr\n",
    "#sr.__version__"
   ]
  },
  {
   "cell_type": "code",
   "execution_count": 11,
   "metadata": {},
   "outputs": [],
   "source": [
    "file_path = '../98.DownLoad/04.DeepVoice/SliceWavFile/'\n",
    "file_name = '01_Sample_001'"
   ]
  },
  {
   "cell_type": "code",
   "execution_count": 12,
   "metadata": {},
   "outputs": [
    {
     "name": "stdout",
     "output_type": "stream",
     "text": [
      "['../98.DownLoad/04.DeepVoice/SliceWavFile\\\\01_Sample_001_00001.wav', '../98.DownLoad/04.DeepVoice/SliceWavFile\\\\01_Sample_001_00002.wav', '../98.DownLoad/04.DeepVoice/SliceWavFile\\\\01_Sample_001_00003.wav', '../98.DownLoad/04.DeepVoice/SliceWavFile\\\\01_Sample_001_00004.wav', '../98.DownLoad/04.DeepVoice/SliceWavFile\\\\01_Sample_001_00005.wav', '../98.DownLoad/04.DeepVoice/SliceWavFile\\\\01_Sample_001_00006.wav', '../98.DownLoad/04.DeepVoice/SliceWavFile\\\\01_Sample_001_00007.wav', '../98.DownLoad/04.DeepVoice/SliceWavFile\\\\01_Sample_001_00008.wav', '../98.DownLoad/04.DeepVoice/SliceWavFile\\\\01_Sample_001_00009.wav', '../98.DownLoad/04.DeepVoice/SliceWavFile\\\\01_Sample_001_00010.wav', '../98.DownLoad/04.DeepVoice/SliceWavFile\\\\01_Sample_001_00011.wav', '../98.DownLoad/04.DeepVoice/SliceWavFile\\\\01_Sample_001_00012.wav', '../98.DownLoad/04.DeepVoice/SliceWavFile\\\\01_Sample_001_00013.wav', '../98.DownLoad/04.DeepVoice/SliceWavFile\\\\01_Sample_001_00014.wav', '../98.DownLoad/04.DeepVoice/SliceWavFile\\\\01_Sample_001_00015.wav', '../98.DownLoad/04.DeepVoice/SliceWavFile\\\\01_Sample_001_00016.wav', '../98.DownLoad/04.DeepVoice/SliceWavFile\\\\01_Sample_001_00017.wav', '../98.DownLoad/04.DeepVoice/SliceWavFile\\\\01_Sample_001_00018.wav', '../98.DownLoad/04.DeepVoice/SliceWavFile\\\\01_Sample_001_00019.wav', '../98.DownLoad/04.DeepVoice/SliceWavFile\\\\01_Sample_001_00020.wav', '../98.DownLoad/04.DeepVoice/SliceWavFile\\\\01_Sample_001_00021.wav', '../98.DownLoad/04.DeepVoice/SliceWavFile\\\\01_Sample_001_00022.wav', '../98.DownLoad/04.DeepVoice/SliceWavFile\\\\01_Sample_001_00023.wav', '../98.DownLoad/04.DeepVoice/SliceWavFile\\\\01_Sample_001_00024.wav', '../98.DownLoad/04.DeepVoice/SliceWavFile\\\\01_Sample_001_00025.wav', '../98.DownLoad/04.DeepVoice/SliceWavFile\\\\01_Sample_001_00026.wav', '../98.DownLoad/04.DeepVoice/SliceWavFile\\\\01_Sample_001_00027.wav', '../98.DownLoad/04.DeepVoice/SliceWavFile\\\\01_Sample_001_00028.wav', '../98.DownLoad/04.DeepVoice/SliceWavFile\\\\01_Sample_001_00029.wav', '../98.DownLoad/04.DeepVoice/SliceWavFile\\\\01_Sample_001_00030.wav', '../98.DownLoad/04.DeepVoice/SliceWavFile\\\\01_Sample_001_00031.wav', '../98.DownLoad/04.DeepVoice/SliceWavFile\\\\01_Sample_001_00032.wav', '../98.DownLoad/04.DeepVoice/SliceWavFile\\\\01_Sample_001_00033.wav', '../98.DownLoad/04.DeepVoice/SliceWavFile\\\\01_Sample_001_00034.wav', '../98.DownLoad/04.DeepVoice/SliceWavFile\\\\01_Sample_001_00035.wav', '../98.DownLoad/04.DeepVoice/SliceWavFile\\\\01_Sample_001_00036.wav', '../98.DownLoad/04.DeepVoice/SliceWavFile\\\\01_Sample_001_00037.wav', '../98.DownLoad/04.DeepVoice/SliceWavFile\\\\01_Sample_001_00038.wav', '../98.DownLoad/04.DeepVoice/SliceWavFile\\\\01_Sample_001_00039.wav', '../98.DownLoad/04.DeepVoice/SliceWavFile\\\\01_Sample_001_00040.wav', '../98.DownLoad/04.DeepVoice/SliceWavFile\\\\01_Sample_001_00041.wav', '../98.DownLoad/04.DeepVoice/SliceWavFile\\\\01_Sample_001_00042.wav', '../98.DownLoad/04.DeepVoice/SliceWavFile\\\\01_Sample_001_00043.wav', '../98.DownLoad/04.DeepVoice/SliceWavFile\\\\01_Sample_001_00044.wav', '../98.DownLoad/04.DeepVoice/SliceWavFile\\\\01_Sample_001_00045.wav', '../98.DownLoad/04.DeepVoice/SliceWavFile\\\\01_Sample_001_00046.wav', '../98.DownLoad/04.DeepVoice/SliceWavFile\\\\01_Sample_001_00047.wav', '../98.DownLoad/04.DeepVoice/SliceWavFile\\\\01_Sample_001_00048.wav', '../98.DownLoad/04.DeepVoice/SliceWavFile\\\\01_Sample_001_00049.wav', '../98.DownLoad/04.DeepVoice/SliceWavFile\\\\01_Sample_001_00050.wav', '../98.DownLoad/04.DeepVoice/SliceWavFile\\\\01_Sample_001_00051.wav', '../98.DownLoad/04.DeepVoice/SliceWavFile\\\\01_Sample_001_00052.wav', '../98.DownLoad/04.DeepVoice/SliceWavFile\\\\01_Sample_001_00053.wav', '../98.DownLoad/04.DeepVoice/SliceWavFile\\\\01_Sample_001_00054.wav', '../98.DownLoad/04.DeepVoice/SliceWavFile\\\\01_Sample_001_00055.wav', '../98.DownLoad/04.DeepVoice/SliceWavFile\\\\01_Sample_001_00056.wav', '../98.DownLoad/04.DeepVoice/SliceWavFile\\\\01_Sample_001_00057.wav', '../98.DownLoad/04.DeepVoice/SliceWavFile\\\\01_Sample_001_00058.wav', '../98.DownLoad/04.DeepVoice/SliceWavFile\\\\01_Sample_001_00059.wav', '../98.DownLoad/04.DeepVoice/SliceWavFile\\\\01_Sample_001_00060.wav', '../98.DownLoad/04.DeepVoice/SliceWavFile\\\\01_Sample_001_00061.wav', '../98.DownLoad/04.DeepVoice/SliceWavFile\\\\01_Sample_001_00062.wav', '../98.DownLoad/04.DeepVoice/SliceWavFile\\\\01_Sample_001_00063.wav', '../98.DownLoad/04.DeepVoice/SliceWavFile\\\\01_Sample_001_00064.wav', '../98.DownLoad/04.DeepVoice/SliceWavFile\\\\01_Sample_001_00065.wav', '../98.DownLoad/04.DeepVoice/SliceWavFile\\\\01_Sample_001_00066.wav', '../98.DownLoad/04.DeepVoice/SliceWavFile\\\\01_Sample_001_00067.wav', '../98.DownLoad/04.DeepVoice/SliceWavFile\\\\01_Sample_001_00068.wav', '../98.DownLoad/04.DeepVoice/SliceWavFile\\\\01_Sample_001_00069.wav', '../98.DownLoad/04.DeepVoice/SliceWavFile\\\\01_Sample_001_00070.wav', '../98.DownLoad/04.DeepVoice/SliceWavFile\\\\01_Sample_001_00071.wav', '../98.DownLoad/04.DeepVoice/SliceWavFile\\\\01_Sample_001_00072.wav', '../98.DownLoad/04.DeepVoice/SliceWavFile\\\\01_Sample_001_00073.wav']\n"
     ]
    }
   ],
   "source": [
    "files = glob.glob(file_path + file_name + \"*.wav\")\n",
    "print(files)"
   ]
  },
  {
   "cell_type": "code",
   "execution_count": null,
   "metadata": {},
   "outputs": [],
   "source": [
    "for x in files:\n",
    "    r = sr.Recognizer()\n",
    "    getAudioFile = sr.AudioFile(x)\n",
    "    \n",
    "    with getAudioFile as source:\n",
    "        audio = r.record(source)\n",
    "        \n",
    "    filename = os.path.splitext(x)\n",
    "    filename = filename[0].replace(\"\\\\\",\"/\").replace(file_path, \"\") + \".wav\"\n",
    "    try:\n",
    "        strSoundTxt = r.recognize_google(audio, language='ko-KR')\n",
    "    except:\n",
    "        pass\n",
    "    print(filename, \":\", strSoundTxt)"
   ]
  },
  {
   "cell_type": "code",
   "execution_count": 8,
   "metadata": {},
   "outputs": [],
   "source": [
    "\"\"\"\n",
    "정주영 회장님 목소리로 해봤는데 텍스트 변환 실패..\n",
    "사투리가 심해서 변환이 안됨\n",
    "\"\"\"\n",
    "r = sr.Recognizer()\n",
    "#한글\n",
    "strFileName = \"Sample01.wav\"\n",
    "#영어\n",
    "#strFileName = \"Sample02.wav\"\n",
    "getAudioFile = sr.AudioFile(\"../98.DownLoad/04.DeepVoice/\" + strFileName)\n",
    "with getAudioFile as source:\n",
    "    audio = r.record(source, duration=60)\n",
    "    #audio = r.record(source, offset=1, duration=30)\n",
    "#type(audio)"
   ]
  },
  {
   "cell_type": "code",
   "execution_count": 6,
   "metadata": {},
   "outputs": [],
   "source": [
    "#strSoundTxt = r.recognize_google(audio)\n",
    "#한글 버전\n",
    "strSoundTxt = r.recognize_google(audio, language='ko-KR')"
   ]
  },
  {
   "cell_type": "code",
   "execution_count": 7,
   "metadata": {},
   "outputs": [
    {
     "name": "stdout",
     "output_type": "stream",
     "text": [
      "결과는 지리산 언제까지 빠르던데 그때 50 전세 한 달에 50 전집 죽은 참나무에 인제 문간방 제발 하라 그러는데 50점 언제 주고 한 달에 50만 원 들어왔는데 밥은 저녁에 그 방에다가 부를 때 저희가 그 은행을 해야지 하니까 저녁 한 번만 밥을 해 먹고 저녁에 그다음 날 저녁에 그 다음날 아침 먹을 밥을 이렇게 해 놔 가지고 아침밥을 먹고 저녁만 한번 더운 밥 먹고 방에 다 풀어야 되니까 그냥 그때 나무 조금은 장작 한다니 직전이었습니다 아침 저녁 밥을 하면은 20편의 되니까 직접 만들어서 저녁 한 번만 하면 그냥 한달에 3백 원이라 남는거죠 대전 그렇게 우리는 저 죽을 했고 그 당시는 전차\n"
     ]
    }
   ],
   "source": [
    "print(strSoundTxt)"
   ]
  },
  {
   "cell_type": "code",
   "execution_count": null,
   "metadata": {},
   "outputs": [],
   "source": []
  }
 ],
 "metadata": {
  "kernelspec": {
   "display_name": "Python 3",
   "language": "python",
   "name": "python3"
  },
  "language_info": {
   "codemirror_mode": {
    "name": "ipython",
    "version": 3
   },
   "file_extension": ".py",
   "mimetype": "text/x-python",
   "name": "python",
   "nbconvert_exporter": "python",
   "pygments_lexer": "ipython3",
   "version": "3.7.3"
  }
 },
 "nbformat": 4,
 "nbformat_minor": 2
}
