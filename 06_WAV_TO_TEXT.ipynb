{
 "cells": [
  {
   "cell_type": "code",
   "execution_count": 1,
   "metadata": {},
   "outputs": [],
   "source": [
    "import speech_recognition as sr\n",
    "#sr.__version__"
   ]
  },
  {
   "cell_type": "code",
   "execution_count": 8,
   "metadata": {},
   "outputs": [],
   "source": [
    "\"\"\"\n",
    "정주영 회장님 목소리로 해봤는데 텍스트 변환 실패..\n",
    "사투리가 심해서 변환이 안됨\n",
    "\"\"\"\n",
    "r = sr.Recognizer()\n",
    "#한글\n",
    "strFileName = \"Sample01.wav\"\n",
    "#영어\n",
    "#strFileName = \"Sample02.wav\"\n",
    "getAudioFile = sr.AudioFile(\"../98.DownLoad/04.DeepVoice/\" + strFileName)\n",
    "with getAudioFile as source:\n",
    "    audio = r.record(source, duration=60)\n",
    "    #audio = r.record(source, offset=1, duration=30)\n",
    "#type(audio)"
   ]
  },
  {
   "cell_type": "code",
   "execution_count": 6,
   "metadata": {},
   "outputs": [],
   "source": [
    "#strSoundTxt = r.recognize_google(audio)\n",
    "#한글 버전\n",
    "strSoundTxt = r.recognize_google(audio, language='ko-KR')"
   ]
  },
  {
   "cell_type": "code",
   "execution_count": 7,
   "metadata": {},
   "outputs": [
    {
     "name": "stdout",
     "output_type": "stream",
     "text": [
      "결과는 지리산 언제까지 빠르던데 그때 50 전세 한 달에 50 전집 죽은 참나무에 인제 문간방 제발 하라 그러는데 50점 언제 주고 한 달에 50만 원 들어왔는데 밥은 저녁에 그 방에다가 부를 때 저희가 그 은행을 해야지 하니까 저녁 한 번만 밥을 해 먹고 저녁에 그다음 날 저녁에 그 다음날 아침 먹을 밥을 이렇게 해 놔 가지고 아침밥을 먹고 저녁만 한번 더운 밥 먹고 방에 다 풀어야 되니까 그냥 그때 나무 조금은 장작 한다니 직전이었습니다 아침 저녁 밥을 하면은 20편의 되니까 직접 만들어서 저녁 한 번만 하면 그냥 한달에 3백 원이라 남는거죠 대전 그렇게 우리는 저 죽을 했고 그 당시는 전차\n"
     ]
    }
   ],
   "source": [
    "print(strSoundTxt)"
   ]
  },
  {
   "cell_type": "code",
   "execution_count": null,
   "metadata": {},
   "outputs": [],
   "source": []
  }
 ],
 "metadata": {
  "kernelspec": {
   "display_name": "Python 3",
   "language": "python",
   "name": "python3"
  },
  "language_info": {
   "codemirror_mode": {
    "name": "ipython",
    "version": 3
   },
   "file_extension": ".py",
   "mimetype": "text/x-python",
   "name": "python",
   "nbconvert_exporter": "python",
   "pygments_lexer": "ipython3",
   "version": "3.7.5"
  }
 },
 "nbformat": 4,
 "nbformat_minor": 2
}
