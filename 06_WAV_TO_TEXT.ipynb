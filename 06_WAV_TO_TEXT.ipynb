{
 "cells": [
  {
   "cell_type": "code",
   "execution_count": 1,
   "metadata": {},
   "outputs": [],
   "source": [
    "import glob\n",
    "import os.path\n",
    "import speech_recognition as sr\n",
    "#sr.__version__"
   ]
  },
  {
   "cell_type": "code",
   "execution_count": 2,
   "metadata": {},
   "outputs": [],
   "source": [
    "file_path = '../98.DownLoad/04.DeepVoice/SliceWavFile/'\n",
    "file_name = '01_Sample_001'"
   ]
  },
  {
   "cell_type": "code",
   "execution_count": 3,
   "metadata": {},
   "outputs": [
    {
     "name": "stdout",
     "output_type": "stream",
     "text": [
      "['../98.DownLoad/04.DeepVoice/SliceWavFile\\\\01_Sample_001_00001.wav', '../98.DownLoad/04.DeepVoice/SliceWavFile\\\\01_Sample_001_00002.wav', '../98.DownLoad/04.DeepVoice/SliceWavFile\\\\01_Sample_001_00003.wav', '../98.DownLoad/04.DeepVoice/SliceWavFile\\\\01_Sample_001_00004.wav', '../98.DownLoad/04.DeepVoice/SliceWavFile\\\\01_Sample_001_00005.wav', '../98.DownLoad/04.DeepVoice/SliceWavFile\\\\01_Sample_001_00006.wav', '../98.DownLoad/04.DeepVoice/SliceWavFile\\\\01_Sample_001_00007.wav', '../98.DownLoad/04.DeepVoice/SliceWavFile\\\\01_Sample_001_00008.wav', '../98.DownLoad/04.DeepVoice/SliceWavFile\\\\01_Sample_001_00009.wav', '../98.DownLoad/04.DeepVoice/SliceWavFile\\\\01_Sample_001_00010.wav', '../98.DownLoad/04.DeepVoice/SliceWavFile\\\\01_Sample_001_00011.wav', '../98.DownLoad/04.DeepVoice/SliceWavFile\\\\01_Sample_001_00012.wav', '../98.DownLoad/04.DeepVoice/SliceWavFile\\\\01_Sample_001_00013.wav', '../98.DownLoad/04.DeepVoice/SliceWavFile\\\\01_Sample_001_00014.wav', '../98.DownLoad/04.DeepVoice/SliceWavFile\\\\01_Sample_001_00015.wav', '../98.DownLoad/04.DeepVoice/SliceWavFile\\\\01_Sample_001_00016.wav', '../98.DownLoad/04.DeepVoice/SliceWavFile\\\\01_Sample_001_00017.wav', '../98.DownLoad/04.DeepVoice/SliceWavFile\\\\01_Sample_001_00018.wav', '../98.DownLoad/04.DeepVoice/SliceWavFile\\\\01_Sample_001_00019.wav', '../98.DownLoad/04.DeepVoice/SliceWavFile\\\\01_Sample_001_00020.wav', '../98.DownLoad/04.DeepVoice/SliceWavFile\\\\01_Sample_001_00021.wav', '../98.DownLoad/04.DeepVoice/SliceWavFile\\\\01_Sample_001_00022.wav', '../98.DownLoad/04.DeepVoice/SliceWavFile\\\\01_Sample_001_00023.wav', '../98.DownLoad/04.DeepVoice/SliceWavFile\\\\01_Sample_001_00024.wav', '../98.DownLoad/04.DeepVoice/SliceWavFile\\\\01_Sample_001_00025.wav', '../98.DownLoad/04.DeepVoice/SliceWavFile\\\\01_Sample_001_00026.wav', '../98.DownLoad/04.DeepVoice/SliceWavFile\\\\01_Sample_001_00027.wav', '../98.DownLoad/04.DeepVoice/SliceWavFile\\\\01_Sample_001_00028.wav', '../98.DownLoad/04.DeepVoice/SliceWavFile\\\\01_Sample_001_00029.wav', '../98.DownLoad/04.DeepVoice/SliceWavFile\\\\01_Sample_001_00030.wav', '../98.DownLoad/04.DeepVoice/SliceWavFile\\\\01_Sample_001_00031.wav', '../98.DownLoad/04.DeepVoice/SliceWavFile\\\\01_Sample_001_00032.wav', '../98.DownLoad/04.DeepVoice/SliceWavFile\\\\01_Sample_001_00033.wav', '../98.DownLoad/04.DeepVoice/SliceWavFile\\\\01_Sample_001_00034.wav', '../98.DownLoad/04.DeepVoice/SliceWavFile\\\\01_Sample_001_00035.wav', '../98.DownLoad/04.DeepVoice/SliceWavFile\\\\01_Sample_001_00036.wav', '../98.DownLoad/04.DeepVoice/SliceWavFile\\\\01_Sample_001_00037.wav', '../98.DownLoad/04.DeepVoice/SliceWavFile\\\\01_Sample_001_00038.wav', '../98.DownLoad/04.DeepVoice/SliceWavFile\\\\01_Sample_001_00039.wav', '../98.DownLoad/04.DeepVoice/SliceWavFile\\\\01_Sample_001_00040.wav', '../98.DownLoad/04.DeepVoice/SliceWavFile\\\\01_Sample_001_00041.wav', '../98.DownLoad/04.DeepVoice/SliceWavFile\\\\01_Sample_001_00042.wav', '../98.DownLoad/04.DeepVoice/SliceWavFile\\\\01_Sample_001_00043.wav', '../98.DownLoad/04.DeepVoice/SliceWavFile\\\\01_Sample_001_00044.wav', '../98.DownLoad/04.DeepVoice/SliceWavFile\\\\01_Sample_001_00045.wav', '../98.DownLoad/04.DeepVoice/SliceWavFile\\\\01_Sample_001_00046.wav', '../98.DownLoad/04.DeepVoice/SliceWavFile\\\\01_Sample_001_00047.wav', '../98.DownLoad/04.DeepVoice/SliceWavFile\\\\01_Sample_001_00048.wav', '../98.DownLoad/04.DeepVoice/SliceWavFile\\\\01_Sample_001_00049.wav', '../98.DownLoad/04.DeepVoice/SliceWavFile\\\\01_Sample_001_00050.wav', '../98.DownLoad/04.DeepVoice/SliceWavFile\\\\01_Sample_001_00051.wav', '../98.DownLoad/04.DeepVoice/SliceWavFile\\\\01_Sample_001_00052.wav', '../98.DownLoad/04.DeepVoice/SliceWavFile\\\\01_Sample_001_00053.wav', '../98.DownLoad/04.DeepVoice/SliceWavFile\\\\01_Sample_001_00054.wav', '../98.DownLoad/04.DeepVoice/SliceWavFile\\\\01_Sample_001_00055.wav', '../98.DownLoad/04.DeepVoice/SliceWavFile\\\\01_Sample_001_00056.wav', '../98.DownLoad/04.DeepVoice/SliceWavFile\\\\01_Sample_001_00057.wav', '../98.DownLoad/04.DeepVoice/SliceWavFile\\\\01_Sample_001_00058.wav', '../98.DownLoad/04.DeepVoice/SliceWavFile\\\\01_Sample_001_00059.wav', '../98.DownLoad/04.DeepVoice/SliceWavFile\\\\01_Sample_001_00060.wav', '../98.DownLoad/04.DeepVoice/SliceWavFile\\\\01_Sample_001_00061.wav', '../98.DownLoad/04.DeepVoice/SliceWavFile\\\\01_Sample_001_00062.wav', '../98.DownLoad/04.DeepVoice/SliceWavFile\\\\01_Sample_001_00063.wav', '../98.DownLoad/04.DeepVoice/SliceWavFile\\\\01_Sample_001_00064.wav', '../98.DownLoad/04.DeepVoice/SliceWavFile\\\\01_Sample_001_00065.wav', '../98.DownLoad/04.DeepVoice/SliceWavFile\\\\01_Sample_001_00066.wav', '../98.DownLoad/04.DeepVoice/SliceWavFile\\\\01_Sample_001_00067.wav', '../98.DownLoad/04.DeepVoice/SliceWavFile\\\\01_Sample_001_00068.wav', '../98.DownLoad/04.DeepVoice/SliceWavFile\\\\01_Sample_001_00069.wav', '../98.DownLoad/04.DeepVoice/SliceWavFile\\\\01_Sample_001_00070.wav', '../98.DownLoad/04.DeepVoice/SliceWavFile\\\\01_Sample_001_00071.wav', '../98.DownLoad/04.DeepVoice/SliceWavFile\\\\01_Sample_001_00072.wav', '../98.DownLoad/04.DeepVoice/SliceWavFile\\\\01_Sample_001_00073.wav']\n"
     ]
    }
   ],
   "source": [
    "files = glob.glob(file_path + file_name + \"*.wav\")\n",
    "print(files)"
   ]
  },
  {
   "cell_type": "code",
   "execution_count": 4,
   "metadata": {},
   "outputs": [
    {
     "name": "stdout",
     "output_type": "stream",
     "text": [
      "01_Sample_001_00001.wav : 결과는 지리산 언제가 제일 빠르던데 그때 50 전세 한 달에 50 전집 주고 제천 낙산 왜 인제 문간방 제발 하라 그러는데 50점 언제 주고 한 달에 50만\n",
      "01_Sample_001_00002.wav : 밥은 저녁에 그 방에다가 부를 때 저희가 건 해야지 하니까 저녁 한 번만 답을 해 먹고 저녁에 그 다음 날 저녁에 그 다음 날 아침 먹을 밥을\n",
      "01_Sample_001_00003.wav : 팬 해 놔 가지고 아침밥을 먹고 저녁만 한번 더운 밥 먹고 방에 다 부를 때 되니까 그냥 그때 나무 조금만 장작 한다니 직전이었습니다 아침저녁 답을 하면은 20\n",
      "01_Sample_001_00004.wav : 직접 만들어서 저녁 한 번만\n",
      "01_Sample_001_00005.wav : 한 달에 300 원인\n",
      "01_Sample_001_00006.wav : 하여튼 그렇게 우리는 적을 했고 그 당신은 전차가 있어\n",
      "01_Sample_001_00007.wav : 버스도 있긴 했습니다 그냥 전체가 오전인데 전차를 타고 다녀\n",
      "01_Sample_001_00008.wav : 버스도 있긴 했습니다 그냥 전체가 오전인데 전차를 타고 다녀\n",
      "01_Sample_001_00009.wav : 이제 신발 인제 다 하니까 신발이 나는 이렇게 타야 가죽으로 다 이렇게\n",
      "01_Sample_001_00010.wav : 해서 신고 이렇게 하니까 엄마\n",
      "01_Sample_001_00011.wav : 어쨌든 물 난 지금도 제가 담배를 안 힘든 지금은 돈이 없어 안 피우는게 아니고 그때는 돈이 아까워서 단단한 피었습니다 배도 안 부른다고 연기 떡볶 피워서 돈이 좀 필요해서 그러니까 그때 한번 지금은 뭐 건강에 나쁘다 그래도 안 피웁니다 물 난 그거 당시 하는 가방이라는게 있었는데 그건 참 귀족이나 그런 건 물론 생각도 안 하는 거지만 지금도 우리 현대조선 이런데 우리 뭐든 이런 사람들은 다 있습니다\n",
      "01_Sample_001_00012.wav : 집을 살 때까지는 왜 트림을 사는 거냐 그래서 제빵 외근 이사한집에 무거운 짐만 가지고 되겠나 라디오 세상 돌아가는 것 아이고 사슬 깊은 얘기는 라디오 소리\n",
      "01_Sample_001_00013.wav : 지도 앱 다방이란 재산 배드 한번도 풀쩍풀쩍 잘 마치고 돈을 버리는 아 그 가방에 달고 배가 고픈 운동을 한 그릇 사 먹지 힘을 그렇게 사는 겁니다 박세리 그래 가지고 우리는 조금만 전세를 놓고 그 전세가 또 좀 큰 전세 놓고 또 큰 전세를 끼고 하여튼 서울 주변의 모든 산 전체를 부당하다 돈을 만들어 저번에 집을 하나 샀는데\n",
      "01_Sample_001_00014.wav : 서대문형무소 맞은편에 현저동 일하는게 있습니다 거기 지금 그 단국대 집들은 다 여기는 헐어버리고 그때 거기서 초가집을\n",
      "01_Sample_001_00015.wav : 어떤 하늘에서 내려온 찾으려니 모르면 내가 제일 높은데 있었습니다 사실은 나는 서울에 와서 쌀가게 해서 쌀 배달 항상 무엇을 하려고 그러니 법률 공부해서 변호사가 달라고 했어\n",
      "01_Sample_001_00016.wav : 어떤 하늘에서 내려온 찾으려니 모르면 내가 제일 높은데 있었습니다 사실은 나는 서울에 와서 쌀가게 해서 쌀 배달 항상 무엇을 하려고 그러니 법률 공부해서 변호사가 달라고 했어\n",
      "01_Sample_001_00017.wav : 모든 인간이라는 것은 자기의 위치에 있는 여건에 적합하도록 목적은\n",
      "01_Sample_001_00018.wav : 모든 인간이라는 것은 자기의 위치에 있는 여건에 적합하도록 목적은\n",
      "01_Sample_001_00019.wav : 자동차도 지금 그렇죠 여러분 계산 지금 반도체산업은 주문 좀 해 가지고\n",
      "01_Sample_001_00020.wav : 자동차도 지금 그렇죠 여러분 계산 지금 반도체산업은 주문 좀 해 가지고\n",
      "01_Sample_001_00021.wav : 로케트를 타고 가서-\n",
      "01_Sample_001_00022.wav : 로케트를 타고 가서-\n",
      "01_Sample_001_00023.wav : 콜롬비아 우주 비행기가 세계를 빙빙\n",
      "01_Sample_001_00024.wav : 인공위성을 대한항공 세계 모든 통신대\n",
      "01_Sample_001_00025.wav : 그리고 1번이 또 어떤 컴퓨터 빈에서는 어떤 분야에서 사는\n",
      "01_Sample_001_00026.wav : 한국인 모인 짓인가 시작해서 어떻게 돼\n",
      "01_Sample_001_00027.wav : 할게 없고\n",
      "01_Sample_001_00028.wav : 저 사람들\n",
      "01_Sample_001_00029.wav : 몇 마리를 앞서 가는데 언제 것을 줘\n",
      "01_Sample_001_00030.wav : 몇 마리를 앞서 가는데 언제 것을 줘\n",
      "01_Sample_001_00031.wav : 린 만일 앞서가는 지금서부터 쫓아 가는 것이 아니라 그 사람들이 가는 시점에 우리도\n",
      "01_Sample_001_00032.wav : 위치에 4탄 반자 강대국 어떻게 쫓아가는\n",
      "01_Sample_001_00033.wav : 기 때문에 나는 크고 앞서 갔다\n",
      "01_Sample_001_00034.wav : 기 때문에 나는 크고 앞서 갔다\n",
      "01_Sample_001_00035.wav : 나는 얻은 기업\n",
      "01_Sample_001_00036.wav : 기업은 사업의 손해를 봤다거나 이래서 싫다고 생각할 거 10분만 얼음에 당하고 파산하더라도 본인이 실패했다고 손을 들지 빌어서 7페이지 인간이 자기는 영원히 승리할 수 있다 생각할 때는 승리하고 살고\n",
      "01_Sample_001_00037.wav : 지가 번째는 그 올림픽을 유치 거냐 안 할 거냐 그리고 유지하는 것이 지금 말씀 돼\n",
      "01_Sample_001_00038.wav : 오른쪽은 위치 해가지고 많은 메신저 서비스로의 올림픽대로\n",
      "01_Sample_001_00039.wav : 득이 되는게 뭐냐 이런 것 때문에 우리 정부에서도 상당히 여러가지 논란을 하고 있습니다\n",
      "01_Sample_001_00040.wav : 유치하다 이렇게 하잖아 그래서 뭐 올림픽 가져 또 그런 것도 아니야 우린 그때 일본하고 그 거기 가서 받은 받으면서 살아\n",
      "01_Sample_001_00041.wav : 유치하다 이렇게 하잖아 그래서 뭐 올림픽 가져 또 그런 것도 아니야 우린 그때 일본하고 그 거기 가서 받은 받으면서 살아\n",
      "01_Sample_001_00042.wav : 우리는 형제의 어려움을 극복하고\n",
      "01_Sample_001_00043.wav : 먼저 올림픽을 유치해 가지고 그 올림픽을 계기로 해가지고 크게 경제나 모든 문화가 발전한 나라가 있고 올림픽은 최초 올림픽 치고 빛나는\n",
      "01_Sample_001_00044.wav : 그럼 모든 개기는 그것을 그 국민 2단계 하고 또는 그 나라의 모든 지도자들이 지도자가 국민들이 어떻게 길을 만드는\n",
      "01_Sample_001_00045.wav : 올림픽은 우리나라 경제 문화 전파\n",
      "01_Sample_001_00046.wav : 풍기 잤네 튼튼 지점을 만들어 줄 거야\n",
      "01_Sample_001_00047.wav : 계기를 만들어 줄 겁니다\n",
      "01_Sample_001_00048.wav : BC 낳는 것이 아니\n",
      "01_Sample_001_00049.wav : 우리는 타면 이렇게\n",
      "01_Sample_001_00050.wav : 맞는다 이렇게 전망 하고있어요 개인기업으로 듣게 아니라는 것은 앞으로 한 10년 20년 하려니 그거는 재미가 보는 대로 더 할 겁니다 그리고 뭐 서산 농장에 가서 하는 것도 근태 일이니까 그거는 그거는 일생 아주 순다리 움직이지 않는 날까지 하기 때문에 수도 없는 거고 그런 거지 무슨 사업을 하다가 4월 16일 없었고요 넌 무슨 될 때도 있고 안 될 때도 있고 오늘 안 되면 내일 저장할 수도 있겠습니다 근데 그 때의 그 팔팔 올림픽 일본 하고 전쟁에서 우리가 다운로드 하는 것은 다들 놀랐을 거예요 그 며느리가 정말\n",
      "01_Sample_001_00051.wav : 경제기적을 입었다 그 1시 서기자\n",
      "01_Sample_001_00052.wav : 그것도 현실인데 그 현실에 기적을 얻은게 아니고 노력으로 사 준다 했는데 그 기간이 길잖아 열흘 동안 그래서 난 그때 참 큰 교육을 받고 왔는데 우리 민족의 한 번이라도 오면 그야말로 우리 민족이 목적하는 뭐든지 아주 이런 그 교훈은 이제 확인했어요 제가 우리 생활에서 가장 중요한 것은 아니라고 봅니다\n",
      "01_Sample_001_00053.wav : 우리 인간이 항상 하는 데는 놀란 교육의 기관에서도 향상될 수 있으면은 우리는 항상 그 인간이라는 것은 생활 속에서 현상들이다 극장에서 보는 것은 보는 것도 중요하지만 그 직장으로 더불어서 모든 그 인간은 인류는 발전하고 있다 때문에 안정이 죽장에 안정이 정치안정 뜬다 이렇게\n",
      "01_Sample_001_00054.wav : 아니 적당히 단지 참 사람이 주의하고 그 극장의 모든 사람들이\n",
      "01_Sample_001_00055.wav : 네 사람만 모여도 일한 직장 보내라 우리가 모여서\n",
      "01_Sample_001_00056.wav : 노는 장소 있어도 자기가 그 자리에 있음으로서 그 장소가 또 씻고 그 노는 장소 뜻있고 너는 무슨 일을 해도 이런 장소 뜻있고 항상 자기가 여러 사람의 도움되는 위치에 살아야겠다 앞으로 우리나라가 참 잘 되고 우리들이 사는 모든 사회와 적당히 잘 되기 위해서는 올바른 생각\n",
      "01_Sample_001_00057.wav : 열심히 그 일을 하면서 모든 사람이 그 산도적 인연 줄 수 있는 사람들이 많을수록 우리 사이는 잘 발전 들고 다닐게 생각 되는 기업의 역활이\n",
      "01_Sample_001_00058.wav : 사귈 거야 알트만 개인의 양다래 역할에 끝나는 것도 아니고 또고 자기 맡은 기업의 발전에서 끝나는게 아니고 문자 그대로 그 국가의 발전과 그분야 사회의 발전 그분의 산업발전에 절대적인 영향을 준다 그렇게 생각합니다 저는 그렇습니다 모든 젊은 사람들에게 저는 바라고 얘기하는 거\n",
      "01_Sample_001_00059.wav : 당신 애들은 아주 160x160 애인이 되고 싶으면 먼저 욕심을 정리하라고 정리 반전 사람\n",
      "01_Sample_001_00060.wav : 테더링 할 수가 없습니다 국민과 사회에서 사랑 받을 수 있는 기억도 만들 수가 없습니다 그냥 어떻게 그 한 요령과 제주다 뭐 무슨 어떤 기회를 도착해 가지고 그 좋지 않은 신과 결정을 해가지고 한번 두각을 나타냈다 이런 생각을 하게 됩니다 그 때문에 그 회사는 회원이 발전되고 자기가 영원히 사랑받는 기업의\n",
      "01_Sample_001_00061.wav : 이케아에서 가고 싶은 사람 찾기 애국심이 적립된다\n",
      "01_Sample_001_00062.wav : 우리나라 국민 말로 그 첨단산업을 해서 성공할 수 있는 국립대 이렇게 봅니다 저한테만 반도체산업은 기타 열어 가지고 첨단산업을 개발하고 있습니다\n",
      "01_Sample_001_00063.wav : 반도체산업 또 지금 현재는 개발 기준으로 보면 아직 훨씬 그 개발기술이 두드러지지만 생산 기준으로 보면은 한국에 언제 일본을 내놓고는 미국이나 구라파 수준 됐다 이렇게 봐도 됩니다 그러니까 이제 우리 정부와 모든 기업이 힘을 서가돈 개발 기술만 발전시킨다는 완전히 가장 상위층에 개발에서부터 생산까지 간다고 합니다 나는 그렇게 봅니다 기능올림픽 8연패를 보더라도 그러고 우리 젊은 층 달에도 공부에 대한 향학열을 보더라도라고 너 부모가 자녀를 공부시킨 그 여성을\n",
      "01_Sample_001_00064.wav : 우리는 오천련 민아 민족이 때문에이 세상에 태어나\n",
      "01_Sample_001_00065.wav : 배우 잘못한 자기 앞가림을 할 수 있는 축령산 가겠습니다\n",
      "01_Sample_001_00066.wav : 모든 우리 기업의 지도자로서 부탄 정치 경제 사회 지도층의 더 분발 만하면 우리나라는 2000년대 야 정말 차 마셔요\n",
      "01_Sample_001_00067.wav : 예 나 우리 모든 국민들이 정직하고 좀 더 성실하게 우리 다른 사람들한테 배가 안 되고 다른 사람들을 돕는 마음으로 우리가\n",
      "01_Sample_001_00068.wav : 자기 앞날을 개척에 나가려고\n",
      "01_Sample_001_00069.wav : 이 나라는\n",
      "01_Sample_001_00070.wav : 온 세계가 부러워하는 나라로\n",
      "01_Sample_001_00071.wav : 네 우리 다 같이 우리가 항상\n",
      "01_Sample_001_00072.wav : 화성에 가면서 밀알\n",
      "01_Sample_001_00073.wav : 긍지를 가지고 일해 줬으면 여기 생각합니다\n"
     ]
    }
   ],
   "source": [
    "for x in files:\n",
    "    r = sr.Recognizer()\n",
    "    getAudioFile = sr.AudioFile(x)\n",
    "    \n",
    "    with getAudioFile as source:\n",
    "        audio = r.record(source)\n",
    "        \n",
    "    filename = os.path.splitext(x)\n",
    "    filename = filename[0].replace(\"\\\\\",\"/\").replace(file_path, \"\") + \".wav\"\n",
    "    try:\n",
    "        strSoundTxt = r.recognize_google(audio, language='ko-KR')\n",
    "    except:\n",
    "        pass\n",
    "    print(filename, \":\", strSoundTxt)"
   ]
  },
  {
   "cell_type": "code",
   "execution_count": 8,
   "metadata": {},
   "outputs": [],
   "source": [
    "\"\"\"\n",
    "정주영 회장님 목소리로 해봤는데 텍스트 변환 실패..\n",
    "사투리가 심해서 변환이 안됨\n",
    "\"\"\"\n",
    "r = sr.Recognizer()\n",
    "#한글\n",
    "strFileName = \"Sample01.wav\"\n",
    "#영어\n",
    "#strFileName = \"Sample02.wav\"\n",
    "getAudioFile = sr.AudioFile(\"../98.DownLoad/04.DeepVoice/\" + strFileName)\n",
    "with getAudioFile as source:\n",
    "    audio = r.record(source, duration=60)\n",
    "    #audio = r.record(source, offset=1, duration=30)\n",
    "#type(audio)"
   ]
  },
  {
   "cell_type": "code",
   "execution_count": 6,
   "metadata": {},
   "outputs": [],
   "source": [
    "#strSoundTxt = r.recognize_google(audio)\n",
    "#한글 버전\n",
    "strSoundTxt = r.recognize_google(audio, language='ko-KR')"
   ]
  },
  {
   "cell_type": "code",
   "execution_count": 7,
   "metadata": {},
   "outputs": [
    {
     "name": "stdout",
     "output_type": "stream",
     "text": [
      "결과는 지리산 언제까지 빠르던데 그때 50 전세 한 달에 50 전집 죽은 참나무에 인제 문간방 제발 하라 그러는데 50점 언제 주고 한 달에 50만 원 들어왔는데 밥은 저녁에 그 방에다가 부를 때 저희가 그 은행을 해야지 하니까 저녁 한 번만 밥을 해 먹고 저녁에 그다음 날 저녁에 그 다음날 아침 먹을 밥을 이렇게 해 놔 가지고 아침밥을 먹고 저녁만 한번 더운 밥 먹고 방에 다 풀어야 되니까 그냥 그때 나무 조금은 장작 한다니 직전이었습니다 아침 저녁 밥을 하면은 20편의 되니까 직접 만들어서 저녁 한 번만 하면 그냥 한달에 3백 원이라 남는거죠 대전 그렇게 우리는 저 죽을 했고 그 당시는 전차\n"
     ]
    }
   ],
   "source": [
    "print(strSoundTxt)"
   ]
  },
  {
   "cell_type": "code",
   "execution_count": null,
   "metadata": {},
   "outputs": [],
   "source": []
  }
 ],
 "metadata": {
  "kernelspec": {
   "display_name": "Python 3",
   "language": "python",
   "name": "python3"
  },
  "language_info": {
   "codemirror_mode": {
    "name": "ipython",
    "version": 3
   },
   "file_extension": ".py",
   "mimetype": "text/x-python",
   "name": "python",
   "nbconvert_exporter": "python",
   "pygments_lexer": "ipython3",
   "version": "3.7.3"
  }
 },
 "nbformat": 4,
 "nbformat_minor": 2
}
