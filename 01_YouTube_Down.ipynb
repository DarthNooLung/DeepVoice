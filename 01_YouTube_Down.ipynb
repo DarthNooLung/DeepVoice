{
 "cells": [
  {
   "cell_type": "code",
   "execution_count": 1,
   "metadata": {},
   "outputs": [],
   "source": [
    "from pytube import YouTube\n",
    "import glob\n",
    "import os.path"
   ]
  },
  {
   "cell_type": "code",
   "execution_count": 1,
   "metadata": {},
   "outputs": [],
   "source": [
    "# 영상 파일 다운로드 함수\n",
    "def GetFileDown(strUrl):\n",
    "    yt = YouTube(strUrl)\n",
    "    \n",
    "    #음성 다운로드\n",
    "    yt.streams.filter(only_audio=True).first().download(strDownPath)\n",
    "\n",
    "    # 확장자 변경\n",
    "    files = glob.glob(strDownPath + \"/*.mp4\")\n",
    "    for x in files:\n",
    "        if not os.path.isdir(x):\n",
    "            filename = os.path.splitext(x)\n",
    "            try:\n",
    "                os.rename(x,filename[0] + '.mp3')                \n",
    "            except:\n",
    "                pass\n",
    "    print('음성 다운로드 완료')\n",
    "    \n",
    "    #영상 다운로드\n",
    "    yt.streams.filter().first().download(strDownPath)\n",
    "    print('영상 다운로드 완료')"
   ]
  },
  {
   "cell_type": "code",
   "execution_count": 2,
   "metadata": {},
   "outputs": [
    {
     "ename": "NameError",
     "evalue": "name 'YouTube' is not defined",
     "output_type": "error",
     "traceback": [
      "\u001b[1;31m---------------------------------------------------------------------------\u001b[0m",
      "\u001b[1;31mNameError\u001b[0m                                 Traceback (most recent call last)",
      "\u001b[1;32m<ipython-input-2-6f7d1cf42907>\u001b[0m in \u001b[0;36m<module>\u001b[1;34m\u001b[0m\n\u001b[0;32m      5\u001b[0m \u001b[0mstrUrl\u001b[0m \u001b[1;33m=\u001b[0m \u001b[1;34m\"https://youtu.be/6t3ic_qElrw\"\u001b[0m\u001b[1;33m\u001b[0m\u001b[1;33m\u001b[0m\u001b[0m\n\u001b[0;32m      6\u001b[0m \u001b[1;33m\u001b[0m\u001b[0m\n\u001b[1;32m----> 7\u001b[1;33m \u001b[0mGetFileDown\u001b[0m\u001b[1;33m(\u001b[0m\u001b[0mstrUrl\u001b[0m\u001b[1;33m)\u001b[0m\u001b[1;33m\u001b[0m\u001b[1;33m\u001b[0m\u001b[0m\n\u001b[0m",
      "\u001b[1;32m<ipython-input-1-9e36ab36c1a5>\u001b[0m in \u001b[0;36mGetFileDown\u001b[1;34m(strUrl)\u001b[0m\n\u001b[0;32m      1\u001b[0m \u001b[1;31m# 영상 파일 다운로드 함수\u001b[0m\u001b[1;33m\u001b[0m\u001b[1;33m\u001b[0m\u001b[1;33m\u001b[0m\u001b[0m\n\u001b[0;32m      2\u001b[0m \u001b[1;32mdef\u001b[0m \u001b[0mGetFileDown\u001b[0m\u001b[1;33m(\u001b[0m\u001b[0mstrUrl\u001b[0m\u001b[1;33m)\u001b[0m\u001b[1;33m:\u001b[0m\u001b[1;33m\u001b[0m\u001b[1;33m\u001b[0m\u001b[0m\n\u001b[1;32m----> 3\u001b[1;33m     \u001b[0myt\u001b[0m \u001b[1;33m=\u001b[0m \u001b[0mYouTube\u001b[0m\u001b[1;33m(\u001b[0m\u001b[0mstrUrl\u001b[0m\u001b[1;33m)\u001b[0m\u001b[1;33m\u001b[0m\u001b[1;33m\u001b[0m\u001b[0m\n\u001b[0m\u001b[0;32m      4\u001b[0m \u001b[1;33m\u001b[0m\u001b[0m\n\u001b[0;32m      5\u001b[0m     \u001b[1;31m#음성 다운로드\u001b[0m\u001b[1;33m\u001b[0m\u001b[1;33m\u001b[0m\u001b[1;33m\u001b[0m\u001b[0m\n",
      "\u001b[1;31mNameError\u001b[0m: name 'YouTube' is not defined"
     ]
    }
   ],
   "source": [
    "#다운로드 경로\n",
    "strDownPath = \"../98.DownLoad/04.DeepVoice\"\n",
    "\n",
    "#유튜브 전용 인스턴스 생성\n",
    "strUrl = \"https://youtu.be/6t3ic_qElrw\"\n",
    "\n",
    "GetFileDown(strUrl)"
   ]
  },
  {
   "cell_type": "code",
   "execution_count": null,
   "metadata": {},
   "outputs": [],
   "source": []
  }
 ],
 "metadata": {
  "kernelspec": {
   "display_name": "Python 3",
   "language": "python",
   "name": "python3"
  },
  "language_info": {
   "codemirror_mode": {
    "name": "ipython",
    "version": 3
   },
   "file_extension": ".py",
   "mimetype": "text/x-python",
   "name": "python",
   "nbconvert_exporter": "python",
   "pygments_lexer": "ipython3",
   "version": "3.7.3"
  }
 },
 "nbformat": 4,
 "nbformat_minor": 2
}
